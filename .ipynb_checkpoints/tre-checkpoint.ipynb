{
 "cells": [
  {
   "cell_type": "code",
   "execution_count": 1,
   "metadata": {},
   "outputs": [],
   "source": [
    "import redis\n",
    "import time\n",
    "import traceback"
   ]
  },
  {
   "cell_type": "code",
   "execution_count": 2,
   "metadata": {},
   "outputs": [],
   "source": [
    "connect_to_redis = redis.Redis(host=\"127.0.0.1\",port=6379,charset=\"utf-8\", decode_responses=True) \n",
    "\n",
    "def RedisCheck():\n",
    "    try:\n",
    "        p = connect_to_redis.pubsub()                                                           # See https://github.com/andymccurdy/redis-py/#publish--subscribe\n",
    "        p.subscribe('startScripts')                                             # Subscribe to startScripts channel\n",
    "        PAUSE = True\n",
    "\n",
    "        while PAUSE:                                             # Will stay in loop until START message received\n",
    "            print(\"Waiting For redisStarter...\")\n",
    "            message = p.get_message()                                               # Checks for message\n",
    "            if message:\n",
    "                command = message['data']                                           # Get data from message\n",
    "\n",
    "                if command == b'START':                                             # Checks for START message\n",
    "                    PAUSE = False                                                   # Breaks loop\n",
    "\n",
    "            time.sleep(1)\n",
    "\n",
    "    except Exception as e:\n",
    "        print(str(e))\n",
    "        print(traceback.format_exc())"
   ]
  },
  {
   "cell_type": "code",
   "execution_count": null,
   "metadata": {},
   "outputs": [],
   "source": []
  },
  {
   "cell_type": "code",
   "execution_count": null,
   "metadata": {},
   "outputs": [],
   "source": []
  },
  {
   "cell_type": "code",
   "execution_count": null,
   "metadata": {},
   "outputs": [],
   "source": [
    "def draw_graph(G, nodes_position, weight):\n",
    "nx.draw(G, pos_ position, with_labels=True, font_size=15,\n",
    "        node_size=400, edge_color='gray', arrowsize=30)\n",
    "if plot_weight:\n",
    "edge_labels=nx.get_edge_attributes(G,'weight')\n",
    "nx.draw_networkx_edge_labels(G, pos_ position, edge_\n",
    "labels=edge_labels)"
   ]
  },
  {
   "cell_type": "code",
   "execution_count": null,
   "metadata": {},
   "outputs": [],
   "source": [
    "G = nx.Graph()\n",
    "V = {'Paris', 'Dublin','Milan', 'Rome'}\n",
    "E = [('Paris','Dublin', 11), ('Paris','Milan', 8),\n",
    " ('Milan','Rome', 5), ('Milan','Dublin', 19)]\n",
    "G.add_nodes_from(V)\n",
    "G.add_weighted_edges_from(E)\n",
    "node_position = {\"Paris\": [0,0], \"Dublin\": [0,1], \"Milan\":\n",
    "[1,0], \"Rome\": [1,1]}\n",
    "draw_graph(G, node_position, True)"
   ]
  }
 ],
 "metadata": {
  "kernelspec": {
   "display_name": "Python 3 (ipykernel)",
   "language": "python",
   "name": "python3"
  },
  "language_info": {
   "codemirror_mode": {
    "name": "ipython",
    "version": 3
   },
   "file_extension": ".py",
   "mimetype": "text/x-python",
   "name": "python",
   "nbconvert_exporter": "python",
   "pygments_lexer": "ipython3",
   "version": "3.8.10"
  },
  "vscode": {
   "interpreter": {
    "hash": "097bf01749c40c495c5a82df7893afa8c9bb24831e752fbebcb414c0922a3327"
   }
  }
 },
 "nbformat": 4,
 "nbformat_minor": 2
}
